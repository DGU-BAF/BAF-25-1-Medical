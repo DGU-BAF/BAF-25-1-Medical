{
 "cells": [
  {
   "cell_type": "code",
   "execution_count": 1,
   "id": "7b375c30-3ead-471a-a7d5-f3cb6b9f42ad",
   "metadata": {},
   "outputs": [],
   "source": [
    "import pandas as pd\n",
    "import numpy as np"
   ]
  },
  {
   "cell_type": "markdown",
   "id": "a1c105e1-df47-43d6-8ee3-be8c5b5c7660",
   "metadata": {},
   "source": [
    "# 1. **데이터 설명**\n",
    "1. pathway_train, pathway_test, pathway_valid : CCLE에서 pathway score 계산 한 데이터\n",
    "2. ic_train, ic_test, ic_val : 민감군, 저항군 라벨\n",
    "3. ccle : 유전자 raw data -> 민감군, 저항군 간 유전자 발현량이 가장 큰 유전자 3개를 genes에 저장\n",
    "4. tcga: 환자 데이터로 약물 민간/저항 라벨 부착 예정"
   ]
  },
  {
   "cell_type": "code",
   "execution_count": 3,
   "id": "978804e5-3938-4224-84ce-8047bdac51f0",
   "metadata": {},
   "outputs": [],
   "source": [
    "pathway_train = pd.read_csv(\"C:/Users/USER/비어플 의료/0415_final/pathway scores/AZ960/train_pathway_score_AZ9601.csv\")\n",
    "pathway_test = pd.read_csv(\"C:/Users/USER/비어플 의료/0415_final/pathway scores/AZ960/test_pathway_score_AZ9601.csv\")\n",
    "pathway_valid = pd.read_csv(\"C:/Users/USER/비어플 의료/0415_final/pathway scores/AZ960/val_pathway_score_AZ9601.csv\")\n",
    "\n",
    "ic_train = pd.read_csv(\"C:/Users/USER/비어플 의료/0415_final/pathway scores/AZ960/ic_train_AZ9601.csv\")\n",
    "ic_test = pd.read_csv(\"C:/Users/USER/비어플 의료/0415_final/pathway scores/AZ960/ic_test_AZ9601.csv\")\n",
    "ic_val = pd.read_csv(\"C:/Users/USER/비어플 의료/0415_final/pathway scores/AZ960/ic_val_AZ9601.csv\")\n",
    "\n",
    "ccle = pd.read_csv(\"C:/Users/User/비어플 의료/#_filtered_CCLE_gene_expression.csv\")\n",
    "ccle.index = ccle[\"Unnamed: 0\"]\n",
    "\n",
    "tcga_path = pd.read_csv(\"C:/Users/User/비어플 의료/0415_final/pathway scores/AZ960/tcga_pathway_score_AZ960.csv\")\n",
    "tcga = pd.read_csv(\"C:/Users/User/비어플 의료/TCGA_final_0419.csv\")\n",
    "\n"
   ]
  },
  {
   "cell_type": "code",
   "execution_count": 4,
   "id": "06fe57e1-25bd-4aeb-aee6-d2f534a8dd9a",
   "metadata": {},
   "outputs": [],
   "source": [
    "pathway_train.set_index(\"SampleID\", inplace= True)\n",
    "pathway_test.set_index(\"SampleID\", inplace= True)\n",
    "pathway_valid.set_index(\"SampleID\", inplace= True)\n",
    "\n",
    "ic_train.set_index(\"Unnamed: 0\", inplace=True)\n",
    "ic_test.set_index(\"Unnamed: 0\", inplace=True)\n",
    "ic_val.set_index(\"Unnamed: 0\", inplace=True)\n",
    "\n",
    "tcga_path.set_index(\"SampleID\",inplace=True)\n",
    "tcga.set_index(\"Unnamed: 0\", inplace=True)"
   ]
  },
  {
   "cell_type": "code",
   "execution_count": 5,
   "id": "83f2119a-3cd0-4376-ba86-fcb37c76e7b7",
   "metadata": {},
   "outputs": [],
   "source": [
    "genes = [\"WAS\", \"MAP4K1\", \"SELPLG\"]"
   ]
  },
  {
   "cell_type": "markdown",
   "id": "f291328d-9d05-4ef8-8de8-e7df4b3dc68c",
   "metadata": {},
   "source": [
    "# 2. **전처리**\n",
    "1. pathway score scale\n",
    "2. pathway score에 대해 PCA 진행 후 90% 설명력까지 사용\n",
    "3. train 기준으로 fjt하고 trest, valid, TCGA에는 transform만 해주기\n",
    "4. ccle, tcga 유전자들도 sacle해주기\n",
    "5. ic라벨 인코딩"
   ]
  },
  {
   "cell_type": "code",
   "execution_count": 7,
   "id": "54f51d73-be7c-47f6-a378-395998e69c47",
   "metadata": {},
   "outputs": [],
   "source": [
    "from sklearn.decomposition import PCA\n",
    "from sklearn.preprocessing import StandardScaler\n",
    "import matplotlib.pyplot as plt\n",
    "\n",
    "# 스케일링 (z-score 정규화가 되어있더라도 PCA 전에 한 번 더 정규화)\n",
    "scaler = StandardScaler()\n",
    "X_scaled = scaler.fit_transform(pathway_train)\n",
    "X_test_scaled = scaler.transform(pathway_test)\n",
    "X_val_scaled = scaler.transform(pathway_valid)\n",
    "tcga_path_scaled = scaler.transform(tcga_path)\n",
    "\n",
    "# PCA 수행 (주성분 2개로 축소)\n",
    "pca = PCA(n_components=0.90)\n",
    "pathway_pca_train = pca.fit_transform(X_scaled)\n",
    "pathway_pca_test  = pca.transform(X_test_scaled)\n",
    "pathway_pca_valid = pca.transform(X_val_scaled)\n",
    "pathway_pca_tcga = pca.transform(tcga_path_scaled)"
   ]
  },
  {
   "cell_type": "code",
   "execution_count": 8,
   "id": "6881d318-8108-4315-a336-34e8c0e8f48d",
   "metadata": {
    "scrolled": true
   },
   "outputs": [],
   "source": [
    "pca_columns = [f\"PC{i+1}\" for i in range(pathway_pca_train.shape[1])]\n",
    "pca_train_df_all = pd.DataFrame(pathway_pca_train, columns=pca_columns, index=pathway_train.index)\n",
    "pca_train_df_all\n",
    "\n",
    "pca_valid_df_all = pd.DataFrame(pathway_pca_valid, columns=pca_columns, index=pathway_valid.index)\n",
    "pca_valid_df_all\n",
    "\n",
    "pca_test_df_all = pd.DataFrame(pathway_pca_test, columns=pca_columns, index=pathway_test.index)\n",
    "pca_test_df_all\n",
    "\n",
    "pca_tcga_df_all = pd.DataFrame(pathway_pca_tcga, columns=pca_columns, index = tcga_path.index)"
   ]
  },
  {
   "cell_type": "code",
   "execution_count": 9,
   "id": "18ce0627-36cd-42a8-b0b1-854ea9b411d0",
   "metadata": {},
   "outputs": [],
   "source": [
    "ccle = ccle[genes]\n",
    "ccle_expr_train = ccle.loc[pathway_train.index]\n",
    "ccle_log_train = np.log2(ccle_expr_train+1)\n",
    "\n",
    "scaler = StandardScaler()\n",
    "ccle_scaled_train = pd.DataFrame(scaler.fit_transform(ccle_log_train),\n",
    "                          columns = ccle_expr_train.columns,\n",
    "                          index = ccle_expr_train.index)\n",
    "\n",
    "ccle_expr_valid = ccle.loc[pathway_valid.index]\n",
    "ccle_log_valid = np.log2(ccle_expr_valid+1)\n",
    "\n",
    "ccle_scaled_valid = pd.DataFrame(scaler.transform(ccle_log_valid),\n",
    "                          columns = ccle_expr_valid.columns,\n",
    "                          index = ccle_expr_valid.index)\n",
    "\n",
    "ccle_expr_test = ccle.loc[pathway_test.index]\n",
    "ccle_log_test = np.log2(ccle_expr_test+1)\n",
    "ccle_scaled_test = pd.DataFrame(scaler.transform(ccle_log_test),\n",
    "                          columns = ccle_expr_test.columns,\n",
    "                          index = ccle_expr_test.index)"
   ]
  },
  {
   "cell_type": "code",
   "execution_count": 10,
   "id": "1185d5a4-3611-48f4-891a-8003477c0a62",
   "metadata": {},
   "outputs": [],
   "source": [
    "tcga = tcga[genes]\n",
    "tcga_expr = tcga.loc[tcga.index]\n",
    "tcga_log = np.log2(tcga_expr+1)\n",
    "\n",
    "tcga_scaled = pd.DataFrame(scaler.transform(tcga_log),\n",
    "                          columns=tcga_expr.columns,\n",
    "                          index = tcga_expr.index)\n"
   ]
  },
  {
   "cell_type": "code",
   "execution_count": 11,
   "id": "eab0748a-5298-4cb3-8c5a-3ef123dbc53a",
   "metadata": {},
   "outputs": [],
   "source": [
    "X_train = pd.concat([pca_train_df_all, ccle_scaled_train], axis = 1)\n",
    "X_valid = pd.concat([pca_valid_df_all, ccle_scaled_valid], axis = 1)\n",
    "X_test = pd.concat([pca_test_df_all, ccle_scaled_test], axis = 1)\n",
    "X_tcga = pd.concat([pca_tcga_df_all,tcga_scaled], axis = 1)\n",
    "\n",
    "final_scaler = StandardScaler()\n",
    "X_train_final = final_scaler.fit_transform(X_train)\n",
    "X_valid_final = final_scaler.transform(X_valid)\n",
    "X_test_final = final_scaler.transform(X_test)\n",
    "X_tcga_final = final_scaler.transform(X_tcga)"
   ]
  },
  {
   "cell_type": "code",
   "execution_count": 12,
   "id": "c59b90b8-3939-411e-811e-22c05d0c13f2",
   "metadata": {},
   "outputs": [],
   "source": [
    "# 숫자 라벨로 변환 (sensitive = 1, resistant = 0)\n",
    "from sklearn.preprocessing import LabelEncoder\n",
    "le = LabelEncoder()\n",
    "y_train = le.fit_transform(ic_train.iloc[:,0])\n",
    "y_valid = le.fit_transform(ic_val.iloc[:,0])\n",
    "y_test = le.fit_transform(ic_test.iloc[:,0])"
   ]
  },
  {
   "cell_type": "markdown",
   "id": "e0381c86-040a-4dca-bcd1-b4bf60472351",
   "metadata": {},
   "source": [
    "# **3. 모델링**\n",
    "1. 로지스틱, 랜덤포레스트, SVM, KNN으로 진행\n",
    "2. 전처리를 R로 해야했기에 pipeline으로 묶을 수 없어 cross validation이 힘듬\n",
    "3. 평가지표는 AUC, F1 score 중점으로 사용\n",
    "4. 수동으로 튜닝 후 성능이 제일 좋은 모델 선택 후 TCGA 라벨 예측"
   ]
  },
  {
   "cell_type": "code",
   "execution_count": 14,
   "id": "6271a434-7e55-461a-8d8a-bcd0035a7006",
   "metadata": {},
   "outputs": [],
   "source": [
    "from sklearn.linear_model import LogisticRegression\n",
    "from sklearn.ensemble import RandomForestClassifier\n",
    "from sklearn.svm import SVC\n",
    "from sklearn.neighbors import KNeighborsClassifier\n",
    "\n",
    "from sklearn.metrics import classification_report, roc_auc_score, confusion_matrix"
   ]
  },
  {
   "cell_type": "code",
   "execution_count": 15,
   "id": "dd809142-fd7e-4dae-8f16-43b6bcacbd29",
   "metadata": {},
   "outputs": [
    {
     "name": "stderr",
     "output_type": "stream",
     "text": [
      "C:\\Users\\USER\\anaconda3\\Lib\\site-packages\\sklearn\\ensemble\\_weight_boosting.py:527: FutureWarning: The SAMME.R algorithm (the default) is deprecated and will be removed in 1.6. Use the SAMME algorithm to circumvent this warning.\n",
      "  warnings.warn(\n"
     ]
    }
   ],
   "source": [
    "## Logistic Regression\n",
    "lr = LogisticRegression(C=0.01, max_iter=10000,class_weight=\"balanced\")\n",
    "lr.fit(X_train_final, y_train)\n",
    "y_pred_lr = lr.predict(X_test_final)\n",
    "y_proba_lr = lr.predict_proba(X_test_final)[:, 1]\n",
    "\n",
    "## Random Forest\n",
    "rf = RandomForestClassifier(\n",
    "    n_estimators=250,\n",
    "    max_depth=3,\n",
    "    random_state=42,\n",
    "    class_weight=\"balanced\"\n",
    ")\n",
    "rf.fit(X_train_final, y_train)\n",
    "y_pred_rf = rf.predict(X_test_final)\n",
    "y_proba_rf = rf.predict_proba(X_test_final)[:, 1]\n",
    "\n",
    "## Support Vector Machine (SVM)\n",
    "svm = SVC(probability=True, random_state=42,C=1.5,class_weight=\"balanced\")\n",
    "svm.fit(X_train_final, y_train)\n",
    "y_pred_svm = svm.predict(X_test_final)\n",
    "y_proba_svm = svm.predict_proba(X_test_final)[:, 1]\n",
    "\n",
    "## K-Nearest Neighbors (KNN)\n",
    "knn = KNeighborsClassifier(n_neighbors=5)\n",
    "knn.fit(X_train_final, y_train)\n",
    "y_pred_knn = knn.predict(X_test_final)\n",
    "y_proba_knn = knn.predict_proba(X_test_final)[:, 1]\n",
    "\n",
    "# ── AdaBoost 추가 ──\n",
    "from sklearn.ensemble import AdaBoostClassifier\n",
    "ada = AdaBoostClassifier(\n",
    "    n_estimators=50,\n",
    "    random_state=42\n",
    ")\n",
    "ada.fit(X_train_final, y_train)\n",
    "\n",
    "y_pred_ada   = ada.predict(X_test_final)\n",
    "y_proba_ada  = ada.predict_proba(X_test_final)[:, 1]"
   ]
  },
  {
   "cell_type": "code",
   "execution_count": 16,
   "id": "fe6ed286-f04d-4fe0-b91e-1cd8dc8d4ec8",
   "metadata": {},
   "outputs": [
    {
     "name": "stdout",
     "output_type": "stream",
     "text": [
      "===== Validation Set Evaluation =====\n",
      "\n",
      "--- Logistic Regression ---\n",
      "              precision    recall  f1-score   support\n",
      "\n",
      "   resistant       0.43      0.43      0.43        23\n",
      "   sensitive       0.54      0.54      0.54        28\n",
      "\n",
      "    accuracy                           0.49        51\n",
      "   macro avg       0.49      0.49      0.49        51\n",
      "weighted avg       0.49      0.49      0.49        51\n",
      "\n",
      "ROC-AUC: 0.517080745341615\n",
      "Confusion matrix:\n",
      " [[10 13]\n",
      " [13 15]]\n",
      "\n",
      "--- Random Forest ---\n",
      "              precision    recall  f1-score   support\n",
      "\n",
      "   resistant       0.44      0.35      0.39        23\n",
      "   sensitive       0.55      0.64      0.59        28\n",
      "\n",
      "    accuracy                           0.51        51\n",
      "   macro avg       0.49      0.50      0.49        51\n",
      "weighted avg       0.50      0.51      0.50        51\n",
      "\n",
      "ROC-AUC: 0.41304347826086957\n",
      "Confusion matrix:\n",
      " [[ 8 15]\n",
      " [10 18]]\n",
      "\n",
      "--- Support Vector Machine ---\n",
      "              precision    recall  f1-score   support\n",
      "\n",
      "   resistant       0.48      0.48      0.48        23\n",
      "   sensitive       0.57      0.57      0.57        28\n",
      "\n",
      "    accuracy                           0.53        51\n",
      "   macro avg       0.52      0.52      0.52        51\n",
      "weighted avg       0.53      0.53      0.53        51\n",
      "\n",
      "ROC-AUC: 0.4580745341614907\n",
      "Confusion matrix:\n",
      " [[11 12]\n",
      " [12 16]]\n",
      "\n",
      "--- AdaBoost ---\n",
      "              precision    recall  f1-score   support\n",
      "\n",
      "   resistant       0.35      0.35      0.35        23\n",
      "   sensitive       0.46      0.46      0.46        28\n",
      "\n",
      "    accuracy                           0.41        51\n",
      "   macro avg       0.41      0.41      0.41        51\n",
      "weighted avg       0.41      0.41      0.41        51\n",
      "\n",
      "ROC-AUC: 0.4052795031055901\n",
      "Confusion matrix:\n",
      " [[ 8 15]\n",
      " [15 13]]\n"
     ]
    }
   ],
   "source": [
    "from sklearn.metrics import classification_report, roc_auc_score, confusion_matrix\n",
    "\n",
    "print(\"===== Validation Set Evaluation =====\")\n",
    "\n",
    "# Logistic Regression - Validation\n",
    "y_pred_lr_valid = lr.predict(X_valid_final)\n",
    "y_proba_lr_valid = lr.predict_proba(X_valid_final)[:, 1]\n",
    "print(\"\\n--- Logistic Regression ---\")\n",
    "print(classification_report(y_valid, y_pred_lr_valid, target_names=le.classes_))\n",
    "print(\"ROC-AUC:\", roc_auc_score(y_valid, y_proba_lr_valid))\n",
    "print(\"Confusion matrix:\\n\", confusion_matrix(y_valid, y_pred_lr_valid))\n",
    "\n",
    "# Random Forest - Validation\n",
    "y_pred_rf_valid = rf.predict(X_valid_final)\n",
    "y_proba_rf_valid = rf.predict_proba(X_valid_final)[:, 1]\n",
    "print(\"\\n--- Random Forest ---\")\n",
    "print(classification_report(y_valid, y_pred_rf_valid, target_names=le.classes_))\n",
    "print(\"ROC-AUC:\", roc_auc_score(y_valid, y_proba_rf_valid))\n",
    "print(\"Confusion matrix:\\n\", confusion_matrix(y_valid, y_pred_rf_valid))\n",
    "\n",
    "# Support Vector Machine - Validation\n",
    "y_pred_svm_valid = svm.predict(X_valid_final)\n",
    "y_proba_svm_valid = svm.predict_proba(X_valid_final)[:, 1]\n",
    "print(\"\\n--- Support Vector Machine ---\")\n",
    "print(classification_report(y_valid, y_pred_svm_valid, target_names=le.classes_))\n",
    "print(\"ROC-AUC:\", roc_auc_score(y_valid, y_proba_svm_valid))\n",
    "print(\"Confusion matrix:\\n\", confusion_matrix(y_valid, y_pred_svm_valid))\n",
    "\n",
    "# AdaBoost - Validation\n",
    "y_pred_ada_valid   = ada.predict(X_valid_final)\n",
    "y_proba_ada_valid  = ada.predict_proba(X_valid_final)[:, 1]\n",
    "print(\"\\n--- AdaBoost ---\")\n",
    "print(classification_report(y_valid, y_pred_ada_valid, target_names=le.classes_))\n",
    "print(\"ROC-AUC:\", roc_auc_score(y_valid, y_proba_ada_valid))\n",
    "print(\"Confusion matrix:\\n\", confusion_matrix(y_valid, y_pred_ada_valid))\n",
    "\n"
   ]
  },
  {
   "cell_type": "code",
   "execution_count": 17,
   "id": "b598784c-bcb6-4dbb-85b7-64705eaf7db5",
   "metadata": {},
   "outputs": [
    {
     "name": "stdout",
     "output_type": "stream",
     "text": [
      "\n",
      "===== Soft Voting Ensemble =====\n",
      "              precision    recall  f1-score   support\n",
      "\n",
      "   resistant       0.38      0.39      0.38        23\n",
      "   sensitive       0.48      0.46      0.47        28\n",
      "\n",
      "    accuracy                           0.43        51\n",
      "   macro avg       0.43      0.43      0.43        51\n",
      "weighted avg       0.43      0.43      0.43        51\n",
      "\n",
      "ROC-AUC: 0.4627329192546583\n",
      "Confusion matrix:\n",
      " [[ 9 14]\n",
      " [15 13]]\n"
     ]
    },
    {
     "name": "stderr",
     "output_type": "stream",
     "text": [
      "C:\\Users\\USER\\anaconda3\\Lib\\site-packages\\sklearn\\ensemble\\_weight_boosting.py:527: FutureWarning: The SAMME.R algorithm (the default) is deprecated and will be removed in 1.6. Use the SAMME algorithm to circumvent this warning.\n",
      "  warnings.warn(\n"
     ]
    }
   ],
   "source": [
    "from sklearn.ensemble import VotingClassifier\n",
    "# ── Soft Voting Ensemble ──\n",
    "voting_clf = VotingClassifier(\n",
    "    estimators=[\n",
    "        ('lr', lr),\n",
    "        ('rf', rf),\n",
    "        ('svm', svm),\n",
    "        ('knn', knn),\n",
    "        ('ada', ada)\n",
    "    ],\n",
    "    voting='soft'\n",
    ")\n",
    "voting_clf.fit(X_train_final, y_train)\n",
    "\n",
    "y_pred_voting  = voting_clf.predict(X_test_final)\n",
    "y_proba_voting = voting_clf.predict_proba(X_test_final)[:, 1]\n",
    "\n",
    "print(\"\\n===== Soft Voting Ensemble =====\")\n",
    "print(classification_report(y_test, y_pred_voting, target_names=le.classes_))\n",
    "print(\"ROC-AUC:\", roc_auc_score(y_test, y_proba_voting))\n",
    "print(\"Confusion matrix:\\n\", confusion_matrix(y_test, y_pred_voting))\n",
    "\n",
    "\n"
   ]
  }
 ],
 "metadata": {
  "kernelspec": {
   "display_name": "Python [conda env:base] *",
   "language": "python",
   "name": "conda-base-py"
  },
  "language_info": {
   "codemirror_mode": {
    "name": "ipython",
    "version": 3
   },
   "file_extension": ".py",
   "mimetype": "text/x-python",
   "name": "python",
   "nbconvert_exporter": "python",
   "pygments_lexer": "ipython3",
   "version": "3.12.7"
  }
 },
 "nbformat": 4,
 "nbformat_minor": 5
}
